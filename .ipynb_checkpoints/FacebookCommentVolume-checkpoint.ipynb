{
 "cells": [
  {
   "cell_type": "markdown",
   "metadata": {
    "slideshow": {
     "slide_type": "notes"
    }
   },
   "source": [
    "# Facebook Comment Volume Prediction\n",
    "The fast-expanding social networking services had drawn extensive public attention since a decade ago. The amount of data that is uploaded to the social networking services is growing day by day. So, there emerges a massive requirement to study the extremely dynamic behavior of users on these services. This is an introductory work to model the user patterns, predict user behaviors and study the effectiveness of machine learning approaches on Facebook. We modeled the user comment patterns over the posts on Facebook Pages based on various parameters and predicted that the number of comments a post is expected to receive in the next H hours."
   ]
  },
  {
   "cell_type": "code",
   "execution_count": 1,
   "metadata": {},
   "outputs": [],
   "source": [
    "import pandas as pd\n",
    "import numpy as np"
   ]
  },
  {
   "cell_type": "markdown",
   "metadata": {},
   "source": [
    "# Reading the Data\n",
    "The dataset is loaded and given reasonable column names. Not all columns will be useful however, so we only select some of the columns"
   ]
  },
  {
   "cell_type": "code",
   "execution_count": 2,
   "metadata": {},
   "outputs": [
    {
     "data": {
      "text/html": [
       "<div>\n",
       "<style>\n",
       "    .dataframe thead tr:only-child th {\n",
       "        text-align: right;\n",
       "    }\n",
       "\n",
       "    .dataframe thead th {\n",
       "        text-align: left;\n",
       "    }\n",
       "\n",
       "    .dataframe tbody tr th {\n",
       "        vertical-align: top;\n",
       "    }\n",
       "</style>\n",
       "<table border=\"1\" class=\"dataframe\">\n",
       "  <thead>\n",
       "    <tr style=\"text-align: right;\">\n",
       "      <th></th>\n",
       "      <th>likes</th>\n",
       "      <th>visitors</th>\n",
       "      <th>people</th>\n",
       "      <th>category</th>\n",
       "      <th>unknown0</th>\n",
       "      <th>unknown1</th>\n",
       "      <th>unknown2</th>\n",
       "      <th>unknown3</th>\n",
       "      <th>unknown4</th>\n",
       "      <th>unknown5</th>\n",
       "      <th>...</th>\n",
       "      <th>friday</th>\n",
       "      <th>saturday</th>\n",
       "      <th>base sunday</th>\n",
       "      <th>base monday</th>\n",
       "      <th>base tuesday</th>\n",
       "      <th>base wednesday</th>\n",
       "      <th>base thursday</th>\n",
       "      <th>base friday</th>\n",
       "      <th>base saturday</th>\n",
       "      <th>incoming comments</th>\n",
       "    </tr>\n",
       "  </thead>\n",
       "  <tbody>\n",
       "    <tr>\n",
       "      <th>0</th>\n",
       "      <td>634995</td>\n",
       "      <td>0</td>\n",
       "      <td>463</td>\n",
       "      <td>1</td>\n",
       "      <td>0.0</td>\n",
       "      <td>1280.0</td>\n",
       "      <td>13.158779</td>\n",
       "      <td>1.0</td>\n",
       "      <td>94.99364</td>\n",
       "      <td>0.0</td>\n",
       "      <td>...</td>\n",
       "      <td>0</td>\n",
       "      <td>0</td>\n",
       "      <td>0</td>\n",
       "      <td>0</td>\n",
       "      <td>0</td>\n",
       "      <td>0</td>\n",
       "      <td>1</td>\n",
       "      <td>0</td>\n",
       "      <td>0</td>\n",
       "      <td>0</td>\n",
       "    </tr>\n",
       "    <tr>\n",
       "      <th>1</th>\n",
       "      <td>634995</td>\n",
       "      <td>0</td>\n",
       "      <td>463</td>\n",
       "      <td>1</td>\n",
       "      <td>0.0</td>\n",
       "      <td>1280.0</td>\n",
       "      <td>13.158779</td>\n",
       "      <td>1.0</td>\n",
       "      <td>94.99364</td>\n",
       "      <td>0.0</td>\n",
       "      <td>...</td>\n",
       "      <td>0</td>\n",
       "      <td>0</td>\n",
       "      <td>1</td>\n",
       "      <td>0</td>\n",
       "      <td>0</td>\n",
       "      <td>0</td>\n",
       "      <td>0</td>\n",
       "      <td>0</td>\n",
       "      <td>0</td>\n",
       "      <td>0</td>\n",
       "    </tr>\n",
       "    <tr>\n",
       "      <th>2</th>\n",
       "      <td>634995</td>\n",
       "      <td>0</td>\n",
       "      <td>463</td>\n",
       "      <td>1</td>\n",
       "      <td>0.0</td>\n",
       "      <td>1280.0</td>\n",
       "      <td>13.158779</td>\n",
       "      <td>1.0</td>\n",
       "      <td>94.99364</td>\n",
       "      <td>0.0</td>\n",
       "      <td>...</td>\n",
       "      <td>1</td>\n",
       "      <td>0</td>\n",
       "      <td>0</td>\n",
       "      <td>0</td>\n",
       "      <td>0</td>\n",
       "      <td>0</td>\n",
       "      <td>0</td>\n",
       "      <td>0</td>\n",
       "      <td>1</td>\n",
       "      <td>0</td>\n",
       "    </tr>\n",
       "    <tr>\n",
       "      <th>3</th>\n",
       "      <td>634995</td>\n",
       "      <td>0</td>\n",
       "      <td>463</td>\n",
       "      <td>1</td>\n",
       "      <td>0.0</td>\n",
       "      <td>1280.0</td>\n",
       "      <td>13.158779</td>\n",
       "      <td>1.0</td>\n",
       "      <td>94.99364</td>\n",
       "      <td>0.0</td>\n",
       "      <td>...</td>\n",
       "      <td>1</td>\n",
       "      <td>0</td>\n",
       "      <td>0</td>\n",
       "      <td>1</td>\n",
       "      <td>0</td>\n",
       "      <td>0</td>\n",
       "      <td>0</td>\n",
       "      <td>0</td>\n",
       "      <td>0</td>\n",
       "      <td>0</td>\n",
       "    </tr>\n",
       "    <tr>\n",
       "      <th>4</th>\n",
       "      <td>634995</td>\n",
       "      <td>0</td>\n",
       "      <td>463</td>\n",
       "      <td>1</td>\n",
       "      <td>0.0</td>\n",
       "      <td>1280.0</td>\n",
       "      <td>13.158779</td>\n",
       "      <td>1.0</td>\n",
       "      <td>94.99364</td>\n",
       "      <td>0.0</td>\n",
       "      <td>...</td>\n",
       "      <td>0</td>\n",
       "      <td>0</td>\n",
       "      <td>0</td>\n",
       "      <td>0</td>\n",
       "      <td>0</td>\n",
       "      <td>0</td>\n",
       "      <td>1</td>\n",
       "      <td>0</td>\n",
       "      <td>0</td>\n",
       "      <td>0</td>\n",
       "    </tr>\n",
       "    <tr>\n",
       "      <th>5</th>\n",
       "      <td>634995</td>\n",
       "      <td>0</td>\n",
       "      <td>463</td>\n",
       "      <td>1</td>\n",
       "      <td>0.0</td>\n",
       "      <td>1280.0</td>\n",
       "      <td>13.158779</td>\n",
       "      <td>1.0</td>\n",
       "      <td>94.99364</td>\n",
       "      <td>0.0</td>\n",
       "      <td>...</td>\n",
       "      <td>0</td>\n",
       "      <td>0</td>\n",
       "      <td>0</td>\n",
       "      <td>0</td>\n",
       "      <td>0</td>\n",
       "      <td>1</td>\n",
       "      <td>0</td>\n",
       "      <td>0</td>\n",
       "      <td>0</td>\n",
       "      <td>0</td>\n",
       "    </tr>\n",
       "  </tbody>\n",
       "</table>\n",
       "<p>6 rows × 54 columns</p>\n",
       "</div>"
      ],
      "text/plain": [
       "    likes  visitors  people  category  unknown0  unknown1   unknown2  \\\n",
       "0  634995         0     463         1       0.0    1280.0  13.158779   \n",
       "1  634995         0     463         1       0.0    1280.0  13.158779   \n",
       "2  634995         0     463         1       0.0    1280.0  13.158779   \n",
       "3  634995         0     463         1       0.0    1280.0  13.158779   \n",
       "4  634995         0     463         1       0.0    1280.0  13.158779   \n",
       "5  634995         0     463         1       0.0    1280.0  13.158779   \n",
       "\n",
       "   unknown3  unknown4  unknown5        ...          friday  saturday  \\\n",
       "0       1.0  94.99364       0.0        ...               0         0   \n",
       "1       1.0  94.99364       0.0        ...               0         0   \n",
       "2       1.0  94.99364       0.0        ...               1         0   \n",
       "3       1.0  94.99364       0.0        ...               1         0   \n",
       "4       1.0  94.99364       0.0        ...               0         0   \n",
       "5       1.0  94.99364       0.0        ...               0         0   \n",
       "\n",
       "   base sunday  base monday  base tuesday  base wednesday  base thursday  \\\n",
       "0            0            0             0               0              1   \n",
       "1            1            0             0               0              0   \n",
       "2            0            0             0               0              0   \n",
       "3            0            1             0               0              0   \n",
       "4            0            0             0               0              1   \n",
       "5            0            0             0               1              0   \n",
       "\n",
       "   base friday  base saturday  incoming comments  \n",
       "0            0              0                  0  \n",
       "1            0              0                  0  \n",
       "2            0              1                  0  \n",
       "3            0              0                  0  \n",
       "4            0              0                  0  \n",
       "5            0              0                  0  \n",
       "\n",
       "[6 rows x 54 columns]"
      ]
     },
     "execution_count": 2,
     "metadata": {},
     "output_type": "execute_result"
    }
   ],
   "source": [
    "names = ['likes', 'visitors', 'people', 'category', 'unknown0', 'unknown1', 'unknown2', 'unknown3', 'unknown4', 'unknown5', 'unknown6', 'unknown7', 'unknown8', 'unknown9', 'unknown10', 'unknown11', 'unknown12', 'unknown13', 'unknown14', 'unknown15', 'unknown16', 'unknown17', 'unknown18', 'unknown19', 'unknown20', 'unknown21', 'unknown22', 'unknown23', 'unknown24', 'cc1 ', 'cc2', 'cc3 ', 'cc4', 'cc5', 'base time', 'length', 'shares', 'promoted', 'hours', 'sunday', 'monday', 'tuesday', 'wednesday', 'thursday', 'friday', 'saturday', 'base sunday', 'base monday', 'base tuesday', 'base wednesday', 'base thursday', 'base friday', 'base saturday', 'incoming comments']\n",
    "df_train = pd.read_csv('Dataset/Training/Features_Variant_5.csv', header=None, names=names)\n",
    "df_train.head(6)"
   ]
  },
  {
   "cell_type": "code",
   "execution_count": 3,
   "metadata": {},
   "outputs": [],
   "source": [
    "ytrain = df_train['incoming comments'].values\n",
    "Xtrain = df_train[['likes', 'people', 'cc1 ', 'cc2', 'cc3 ', 'cc4', 'cc5', 'base time', 'length', 'shares', 'promoted', 'hours', 'sunday','monday', 'tuesday', 'wednesday', 'thursday', 'friday', 'saturday']]"
   ]
  },
  {
   "cell_type": "markdown",
   "metadata": {},
   "source": [
    "# Training the Model\n",
    "Given the data, we use fit the data to a linear regression. After that, we calculate the RSS of the training data to make sure the model is reasonably accurate"
   ]
  },
  {
   "cell_type": "code",
   "execution_count": 4,
   "metadata": {},
   "outputs": [
    {
     "data": {
      "text/plain": [
       "LinearRegression(copy_X=True, fit_intercept=True, n_jobs=None,\n",
       "         normalize=False)"
      ]
     },
     "execution_count": 4,
     "metadata": {},
     "output_type": "execute_result"
    }
   ],
   "source": [
    "from sklearn import linear_model\n",
    "\n",
    "regr = linear_model.LinearRegression()\n",
    "regr.fit(Xtrain, ytrain)"
   ]
  },
  {
   "cell_type": "code",
   "execution_count": 5,
   "metadata": {},
   "outputs": [
    {
     "name": "stdout",
     "output_type": "stream",
     "text": [
      "0.68374955361\n"
     ]
    }
   ],
   "source": [
    "ytrain_pred = regr.predict(Xtrain)\n",
    "RSS_train = np.mean((ytrain_pred-ytrain)**2)/(np.std(ytrain)**2)\n",
    "print(RSS_train)"
   ]
  },
  {
   "cell_type": "markdown",
   "metadata": {},
   "source": [
    "# Testing the Model\n",
    "The final step is to test the model. We concatenate all the testing dataset and test the model. Then we calculate the RSS of the testing data to decide the accuracy of our linear model. "
   ]
  },
  {
   "cell_type": "code",
   "execution_count": 6,
   "metadata": {},
   "outputs": [],
   "source": [
    "import glob\n",
    "path = 'Dataset/Testing/TestSet/'\n",
    "allFiles = glob.glob(path + '/*.csv')\n",
    "testdfs = []\n",
    "for file in allFiles:\n",
    "    df = pd.read_csv(file, header=None, names=names, na_values='?')\n",
    "    testdfs.append(df)\n",
    "\n",
    "df_test = pd.concat(testdfs, axis=0, ignore_index=True)"
   ]
  },
  {
   "cell_type": "code",
   "execution_count": 7,
   "metadata": {},
   "outputs": [],
   "source": [
    "ytest = df_test['incoming comments'].values\n",
    "Xtest = df_test[['likes', 'people','cc1 ', 'cc2', 'cc3 ', 'cc4', 'cc5', 'base time', 'length', 'shares', 'promoted', 'hours', 'sunday','monday', 'tuesday', 'wednesday', 'thursday', 'friday', 'saturday']]\n",
    "ytest_pred = regr.predict(Xtest)"
   ]
  },
  {
   "cell_type": "code",
   "execution_count": 8,
   "metadata": {},
   "outputs": [
    {
     "name": "stdout",
     "output_type": "stream",
     "text": [
      "0.887817998335\n"
     ]
    }
   ],
   "source": [
    "RSS_test = np.mean((ytest_pred-ytest)**2)/(np.std(ytest)**2)\n",
    "print(RSS_test)"
   ]
  },
  {
   "cell_type": "markdown",
   "metadata": {},
   "source": [
    "# Conclusion\n",
    "Since the RSS calculations for our training and testing data is large, it shows that our analysis has much room for improvement. The dataset that was used did not provide a proper correlation between its factors and the target variable\n",
    "# Suggestions for Improvement\n",
    "1. Find a better dataset that entails the correlation\n",
    "2. Use a different technique, such as svm or neural network"
   ]
  }
 ],
 "metadata": {
  "celltoolbar": "Raw Cell Format",
  "kernelspec": {
   "display_name": "Python 3",
   "language": "python",
   "name": "python3"
  },
  "language_info": {
   "codemirror_mode": {
    "name": "ipython",
    "version": 3
   },
   "file_extension": ".py",
   "mimetype": "text/x-python",
   "name": "python",
   "nbconvert_exporter": "python",
   "pygments_lexer": "ipython3",
   "version": "3.6.5"
  }
 },
 "nbformat": 4,
 "nbformat_minor": 2
}
